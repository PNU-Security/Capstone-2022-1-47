{
 "cells": [
  {
   "cell_type": "code",
   "execution_count": 1,
   "id": "259d466c",
   "metadata": {
    "scrolled": true
   },
   "outputs": [],
   "source": [
    "import os\n",
    "import pandas as pd\n",
    "import subprocess\n",
    "import re\n",
    "DATA_IN_PATH = './data/'\n",
    "\n",
    "#해당 디렉토리에서 txt파일 읽고 dict에 저장하기\n",
    "def read_file(directory):\n",
    "    scripts = {}\n",
    "    scripts[\"name\"] = []  #내가 보기 편하게 하기 위해 넣어논거 나중에 제거할 예정 , encoding='UTF8'\n",
    "    scripts[\"code\"] = []\n",
    "    for file in os.listdir(directory):\n",
    "        if 'txt' in file:\n",
    "            try:\n",
    "                with open(os.path.join(directory ,file), \"r\", encoding='UTF8') as script:\n",
    "                    scripts[\"name\"].append(file)\n",
    "                    code = script.readlines()\n",
    "                    scripts[\"code\"].append(preprocess(code)) #preprocess(code)\n",
    "            except UnicodeDecodeError as e:\n",
    "                scripts[\"code\"].append(None)\n",
    "    return pd.DataFrame.from_dict(scripts)\n",
    "\n",
    "\n",
    "def preprocess(code):\n",
    "    result = []\n",
    "    multi = 0\n",
    "    for line in code:\n",
    "        line = re.sub(\"[^a-zA-Z0-9-._]\", \" \", line)\n",
    "        #언더 바 두개 이상으로 붙어있는거 제거\n",
    "        result.append(re.sub(\"__+\", \" \", line))\n",
    "    tmp = ' '.join(result) #하나의 문자열로 합치기\n",
    "    return tmp\n",
    "\n",
    "\n",
    "#디렉토리 안에 있는 ps1파일 psparser실행 -> txt로 결과값 저장\n",
    "def run_psparser(directory):\n",
    "    #PATH에 자기가 위치하고 있는 곳 경로 추가 \n",
    "    curpath = os.getcwd() + ';'\n",
    "    env = os.environ\n",
    "    path = curpath+env['PATH']\n",
    "    env['PATH'] = path\n",
    "    #psParser.exe는 파이썬 코드와 같은 위치에 있어야함\n",
    "    result = subprocess.run(['psParser.exe', directory])\n",
    "\n",
    "def labeling(directory): #라벨링 작업\n",
    "    malicious_df = read_file(os.path.join(directory,\"malicious/result\"))\n",
    "    clean_df = read_file(os.path.join(directory,\"clean/result\"))\n",
    "    malicious_df[\"sentiment\"] = 1 \n",
    "    clean_df[\"sentiment\"] = 0\n",
    "    return pd.concat([malicious_df, clean_df],ignore_index=True)\n",
    "    \n"
   ]
  },
  {
   "cell_type": "code",
   "execution_count": null,
   "id": "15d434ab",
   "metadata": {},
   "outputs": [],
   "source": []
  }
 ],
 "metadata": {
  "kernelspec": {
   "display_name": "Python 3 (ipykernel)",
   "language": "python",
   "name": "python3"
  },
  "language_info": {
   "codemirror_mode": {
    "name": "ipython",
    "version": 3
   },
   "file_extension": ".py",
   "mimetype": "text/x-python",
   "name": "python",
   "nbconvert_exporter": "python",
   "pygments_lexer": "ipython3",
   "version": "3.10.5"
  }
 },
 "nbformat": 4,
 "nbformat_minor": 5
}
