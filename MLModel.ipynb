{
 "cells": [
  {
   "cell_type": "code",
   "execution_count": 1,
   "id": "46ec91b3",
   "metadata": {
    "scrolled": true
   },
   "outputs": [
    {
     "name": "stdout",
     "output_type": "stream",
     "text": [
      "14516\n",
      "1002\n"
     ]
    }
   ],
   "source": [
    "from sklearn.model_selection import train_test_split, StratifiedKFold\n",
    "import pandas as pd\n",
    "import numpy as np\n",
    "from sklearn.feature_extraction.text import CountVectorizer\n",
    "from sklearn.metrics import accuracy_score\n",
    "from sklearn.metrics import confusion_matrix\n",
    "from sklearn.metrics import precision_score\n",
    "from sklearn.metrics import recall_score\n",
    "from sklearn.metrics import f1_score\n",
    "import matplotlib.pyplot as plt\n",
    "from sklearn.ensemble import AdaBoostClassifier, GradientBoostingClassifier, RandomForestClassifier\n",
    "from xgboost import XGBClassifier\n",
    "from sklearn.metrics import roc_curve\n",
    "from sklearn.metrics import roc_auc_score\n",
    "%matplotlib inline\n",
    "np.set_printoptions(threshold=np.inf, linewidth=np.inf)\n",
    "# row 생략 없이 출력\n",
    "pd.set_option('display.max_rows', None)\n",
    "# col 생략 없이 출력\n",
    "pd.set_option('display.max_columns', None)\n",
    "\n",
    "DATA_PATH = './data/'\n",
    "DATA_SET_CSV = 'dataset.csv'\n",
    "\n",
    "#csv파일 읽기\n",
    "dataset = pd.read_csv(DATA_PATH+DATA_SET_CSV)\n",
    "codes = list(dataset['code'])\n",
    "y = np.array(dataset['sentiment'])\n",
    "\n",
    "#csv파일 제대로 읽었는지 확인\n",
    "print(np.count_nonzero(y == 0))\n",
    "print(np.count_nonzero(y == 1))\n"
   ]
  },
  {
   "cell_type": "code",
   "execution_count": 2,
   "id": "c76f590a",
   "metadata": {},
   "outputs": [],
   "source": [
    "#특징을 5000개로 잡았다면 \n",
    "#빈도 높은거 5000개로 추림\n",
    "#이게 인덱스를 단어 오름차순으로 붙이는거 같다\n",
    "#카운트벡터는 _는 가능한데 -나 .는 분리하는 거 같다 -> 정규 표헌식 사용\n",
    "def count_vectorizer(features):\n",
    "    vector = CountVectorizer(max_features = features, ngram_range = (1,2), token_pattern = \"[a-z0-9-._:]+\") \n",
    "    vector_dataset = vector.fit_transform(codes)\n",
    "    '''words =[]\n",
    "    for word, index in vector.vocabulary_.items():\n",
    "        if word in \":\":\n",
    "            print(index , \":\", word)\n",
    "        words.append(word)\n",
    "    words.sort()'''\n",
    "    return vector, vector_dataset\n"
   ]
  },
  {
   "cell_type": "code",
   "execution_count": 41,
   "id": "3604b624",
   "metadata": {},
   "outputs": [],
   "source": [
    "from sklearn.feature_extraction.text import TfidfVectorizer\n",
    "#TF-IDF \n",
    "def Tf_idf(features):\n",
    "    vector = TfidfVectorizer(min_df = 1,ngram_range = (1,2), max_features = features, sublinear_tf=True, token_pattern = \"[a-zA-Z0-9-._:]+\")\n",
    "    vector_dataset = vector.fit_transform(codes)\n",
    "    return vector, vector_dataset"
   ]
  },
  {
   "cell_type": "code",
   "execution_count": 4,
   "id": "598111cd",
   "metadata": {},
   "outputs": [
    {
     "name": "stdout",
     "output_type": "stream",
     "text": [
      "최적 : {'max_depth': 15, 'min_samples_leaf': 3, 'min_samples_split': 8, 'n_estimators': 100}\n",
      "최고 정확도 : 0.9788251772578924\n"
     ]
    }
   ],
   "source": [
    "from sklearn.model_selection import GridSearchCV\n",
    "#랜덤 포레스트 최적의 하이퍼 파라미터 구하기\n",
    "params = {\n",
    "    'n_estimators' : [100,150,200],\n",
    "    'max_depth' : [6,8,10,12,15],\n",
    "    'min_samples_leaf' : [3,5, 8, 10],\n",
    "    'min_samples_split' : [3,5, 8, 10]\n",
    "    \n",
    "}\n",
    "#n_jobs = -1 -> 모든 CPU 코어 사용 random_state=0,\n",
    "vector, vector_dataset = count_vectorizer(4000)\n",
    "x_train, x_test, y_train, y_test = train_test_split(vector_dataset, y, test_size = 0.2, random_state = 42, stratify = y)\n",
    "skf = StratifiedKFold(n_splits=3, shuffle=True, random_state = 42)\n",
    "tuning_forest = RandomForestClassifier(n_jobs = -1) \n",
    "grid = GridSearchCV(tuning_forest, param_grid = params, cv = skf, n_jobs = -1)\n",
    "grid.fit(x_train, y_train)\n",
    "print(\"최적 :\", grid.best_params_)\n",
    "print(\"최고 정확도 :\", grid.best_score_)"
   ]
  },
  {
   "cell_type": "code",
   "execution_count": 5,
   "id": "5ce4e309",
   "metadata": {},
   "outputs": [
    {
     "name": "stdout",
     "output_type": "stream",
     "text": [
      "최적 : {'learning_rate': 0.2, 'max_depth': 8, 'n_estimators': 150}\n",
      "최고 정확도 : 0.9888603058788945\n"
     ]
    }
   ],
   "source": [
    "#XGB 최적의 하이퍼 파라미터 구하기\n",
    "params = {\n",
    "    'n_estimators' : [100,150,200],\n",
    "    'learning_rate' : [0.04,0.08,0.1,0.2],\n",
    "    'max_depth' : [6,8,10,12,15]\n",
    "}\n",
    "#vector, vector_dataset =  count_vectorizer(4000)\n",
    "#x_train, x_test, y_train, y_test = train_test_split(vector_dataset, y, test_size = 0.3, random_state = 42, stratify = y)\n",
    "tuning_gradient = XGBClassifier()\n",
    "grid = GridSearchCV(tuning_gradient, param_grid = params, cv = skf)\n",
    "grid.fit(x_train, y_train)\n",
    "print(\"최적 :\", grid.best_params_)\n",
    "print(\"최고 정확도 :\", grid.best_score_)"
   ]
  },
  {
   "cell_type": "code",
   "execution_count": 6,
   "id": "3a2e598d",
   "metadata": {},
   "outputs": [
    {
     "name": "stdout",
     "output_type": "stream",
     "text": [
      "최적 : {'learning_rate': 0.04, 'n_estimators': 100}\n",
      "최고 정확도 : 0.9866507425733761\n"
     ]
    }
   ],
   "source": [
    "#GBM 최적의 하이퍼 파라미터 구하기\n",
    "params = {\n",
    "    'n_estimators' : [100,150,200],\n",
    "    'learning_rate' : [0.04,0.06,0.08,0.1]\n",
    "}\n",
    "#vector, vector_dataset =  count_vectorizer(4000)\n",
    "#x_train, x_test, y_train, y_test = train_test_split(vector_dataset, y, test_size = 0.2, random_state = 42, stratify = y)\n",
    "tuning_gradient = GradientBoostingClassifier()\n",
    "grid = GridSearchCV(tuning_gradient, param_grid = params, cv = skf)\n",
    "grid.fit(x_train, y_train)\n",
    "print(\"최적 :\", grid.best_params_)\n",
    "print(\"최고 정확도 :\", grid.best_score_)"
   ]
  },
  {
   "cell_type": "code",
   "execution_count": 7,
   "id": "57c4f7fa",
   "metadata": {},
   "outputs": [
    {
     "name": "stdout",
     "output_type": "stream",
     "text": [
      "최적 : {'n_estimators': 300}\n",
      "최고 정확도 : 0.9872032287612216\n"
     ]
    }
   ],
   "source": [
    "#adaboost 최적의 하이퍼 파라미터 구하기\n",
    "params = {\n",
    "    'n_estimators' : [100,150,200, 250, 300],\n",
    "}\n",
    "#vector, vector_dataset = count_vectorizer(4000)\n",
    "#x_train, x_test, y_train, y_test = train_test_split(vector_dataset, y, test_size = 0.2, random_state = 42, stratify = y)\n",
    "tuning_ada = AdaBoostClassifier(random_state=0)\n",
    "grid = GridSearchCV(tuning_ada, param_grid = params, cv = skf)\n",
    "grid.fit(x_train, y_train)\n",
    "print(\"최적 :\", grid.best_params_)\n",
    "print(\"최고 정확도 :\", grid.best_score_)"
   ]
  },
  {
   "cell_type": "code",
   "execution_count": 8,
   "id": "d2e1ec61",
   "metadata": {},
   "outputs": [],
   "source": [
    "index = [100,500,1000,2000,3000, 4000, 5000]\n",
    "def draw_table(name, accuracy, precision, recall, F1,auc):\n",
    "    raw_data = {'accuracy' : accuracy, 'precision':precision, 'recall':recall,'F1':F1,'auc':auc}\n",
    "    table = pd.DataFrame(raw_data)\n",
    "    table.index = name\n",
    "    print(table)\n",
    "    \n",
    "def draw_table1(name, accuracy, precision, recall, F1):\n",
    "    raw_data = {'accuracy' : accuracy, 'precision':precision, 'recall':recall,'F1':F1}\n",
    "    table = pd.DataFrame(raw_data)\n",
    "    table.index = name\n",
    "    print(table)"
   ]
  },
  {
   "cell_type": "code",
   "execution_count": 10,
   "id": "70e5f20e",
   "metadata": {},
   "outputs": [
    {
     "name": "stdout",
     "output_type": "stream",
     "text": [
      "                            accuracy  precision  recall        F1\n",
      "RandomForestClassifier      0.978737   1.000000    0.67  0.802395\n",
      "GradientBoostingClassifier  0.986469   0.987654    0.80  0.883978\n",
      "AdaBoostClassifier          0.984536   0.922222    0.83  0.873684\n",
      "XGBClassifier               0.988402   0.976744    0.84  0.903226\n"
     ]
    }
   ],
   "source": [
    "#카운트 벡터라이저 사용\n",
    "accuracy = []\n",
    "precision = [] \n",
    "recall = []\n",
    "F1 = []\n",
    "name = []\n",
    "prob = []\n",
    "#vector, vector_dataset = count_vectorizer(4000)\n",
    "x_train, x_test, y_train, y_test = train_test_split(vector_dataset, y, test_size = 0.2, random_state = 42, stratify = y)\n",
    "forest = RandomForestClassifier(n_estimators = 100, max_depth=15,min_samples_split=10,min_samples_leaf=3)\n",
    "gradient = GradientBoostingClassifier(n_estimators = 150, learning_rate = 0.04)\n",
    "ada = AdaBoostClassifier(n_estimators = 300)\n",
    "xgb = XGBClassifier(n_estimators = 150, learning_rate = 0.2, max_depth=8)\n",
    "\n",
    "for model in (forest, gradient, ada,xgb):\n",
    "    model.fit(x_train, y_train)\n",
    "    y_pred = model.predict(x_test)\n",
    "    prob.append(model.predict_proba(x_test))\n",
    "    name.append(model.__class__.__name__)\n",
    "    accuracy.append(accuracy_score(y_test, y_pred))\n",
    "    precision.append(precision_score(y_test, y_pred))\n",
    "    recall.append(recall_score(y_test, y_pred))\n",
    "    F1.append(f1_score(y_test, y_pred))\n",
    "draw_table1(name, accuracy, precision, recall, F1)\n",
    "    "
   ]
  },
  {
   "cell_type": "code",
   "execution_count": 11,
   "id": "60af5a84",
   "metadata": {},
   "outputs": [
    {
     "data": {
      "image/png": "[encoded data removed]",
      "text/plain": [
       "<Figure size 720x576 with 1 Axes>"
      ]
     },
     "metadata": {},
     "output_type": "display_data"
    }
   ],
   "source": [
    "#GBM, ada, random forest, XGB ROC 곡선을 구해보자\n",
    "fpr0, tpr0, thresholds0 = roc_curve(y_test, prob[0][:,1])\n",
    "fpr1, tpr1, thresholds1 = roc_curve(y_test, prob[1][:,1])\n",
    "fpr2, tpr2, thresholds2 = roc_curve(y_test, prob[2][:,1])\n",
    "fpr3, tpr3, thresholds3 = roc_curve(y_test, prob[3][:,1])\n",
    "plt.style.use('seaborn-whitegrid')\n",
    "plt.figure(figsize=(10,8))\n",
    "plt.plot(fpr0, tpr0, color = 'deepskyblue', label = 'RF')\n",
    "plt.plot(fpr1, tpr1, color = 'orange', label = 'GBM')\n",
    "plt.plot(fpr2, tpr2, color = 'limegreen', label = 'Ada')\n",
    "plt.plot(fpr3, tpr3, color = 'orangered', label = 'XGB')\n",
    "plt.xlabel('FPR')\n",
    "plt.ylabel('TPR')\n",
    "plt.legend()\n",
    "plt.show()"
   ]
  },
  {
   "cell_type": "code",
   "execution_count": 12,
   "id": "2a5b7d00",
   "metadata": {},
   "outputs": [
    {
     "name": "stdout",
     "output_type": "stream",
     "text": [
      "RF: 0.9756112258953168\n",
      "GBM: 0.9701704545454546\n",
      "Ada: 0.9698734504132231\n",
      "XGB: 0.9810890151515151\n"
     ]
    }
   ],
   "source": [
    "print(\"RF:\",roc_auc_score(y_test, prob[0][:,1]))\n",
    "print(\"GBM:\",roc_auc_score(y_test, prob[1][:,1]))\n",
    "print(\"Ada:\",roc_auc_score(y_test, prob[2][:,1]))\n",
    "print(\"XGB:\",roc_auc_score(y_test, prob[3][:,1]))"
   ]
  },
  {
   "cell_type": "code",
   "execution_count": 76,
   "id": "a264c10c",
   "metadata": {},
   "outputs": [
    {
     "name": "stdout",
     "output_type": "stream",
     "text": [
      "                            accuracy  precision  recall        F1\n",
      "RandomForestClassifier      0.986147   0.981595   0.800  0.881543\n",
      "GradientBoostingClassifier  0.986147   0.953757   0.825  0.884718\n",
      "AdaBoostClassifier          0.983570   0.907104   0.830  0.866841\n",
      "XGBClassifier               0.988080   0.971098   0.840  0.900804\n"
     ]
    }
   ],
   "source": [
    "#tf-idf사용\n",
    "accuracy = []\n",
    "precision = [] \n",
    "recall = []\n",
    "F1 = []\n",
    "name = []\n",
    "prob = []\n",
    "vector, vector_dataset = count_vectorizer(4000)\n",
    "x_train, x_test, y_train, y_test = train_test_split(vector_dataset, y, test_size = 0.2, random_state = 42, stratify = y)\n",
    "forest = RandomForestClassifier(n_estimators = 100)\n",
    "gradient = GradientBoostingClassifier(n_estimators = 100)\n",
    "ada = AdaBoostClassifier(n_estimators = 100)\n",
    "xgb = XGBClassifier(n_estimators = 100)\n",
    "for model in (forest, gradient, ada, xgb):\n",
    "    model.fit(x_train, y_train)\n",
    "    y_pred = model.predict(x_test)\n",
    "    prob.append(model.predict_proba(x_test))\n",
    "    name.append(model.__class__.__name__)\n",
    "    accuracy.append(accuracy_score(y_test, y_pred))\n",
    "    precision.append(precision_score(y_test, y_pred))\n",
    "    recall.append(recall_score(y_test, y_pred))\n",
    "    F1.append(f1_score(y_test, y_pred))\n",
    "draw_table1(name, accuracy, precision, recall, F1)\n",
    "    "
   ]
  },
  {
   "cell_type": "code",
   "execution_count": 77,
   "id": "1bfebd68",
   "metadata": {},
   "outputs": [
    {
     "data": {
      "image/png": "[encoded data removed]",
      "text/plain": [
       "<Figure size 720x576 with 1 Axes>"
      ]
     },
     "metadata": {},
     "output_type": "display_data"
    }
   ],
   "source": [
    "#GBM, ada, random forest, XGB ROC 곡선을 구해보자\n",
    "fpr0, tpr0, thresholds0 = roc_curve(y_test, prob[0][:,1])\n",
    "fpr1, tpr1, thresholds1 = roc_curve(y_test, prob[1][:,1])\n",
    "fpr2, tpr2, thresholds2 = roc_curve(y_test, prob[2][:,1])\n",
    "fpr3, tpr3, thresholds3 = roc_curve(y_test, prob[3][:,1])\n",
    "plt.style.use('seaborn-whitegrid')\n",
    "plt.figure(figsize=(10,8))\n",
    "plt.plot(fpr0, tpr0, color = 'C0', label = 'RF')\n",
    "plt.plot(fpr1, tpr1, color = 'C1', label = 'GBM')\n",
    "plt.plot(fpr2, tpr2, color = 'C2', label = 'Ada')\n",
    "plt.plot(fpr3, tpr3, color = 'C3', label = 'XGB')\n",
    "plt.xlabel('FPR')\n",
    "plt.ylabel('TPR')\n",
    "plt.legend()\n",
    "plt.show()"
   ]
  },
  {
   "cell_type": "code",
   "execution_count": 78,
   "id": "63e3529b",
   "metadata": {},
   "outputs": [
    {
     "name": "stdout",
     "output_type": "stream",
     "text": [
      "RF: 0.9739962121212121\n",
      "GBM: 0.9731069214876034\n",
      "Ada: 0.973073347107438\n",
      "XGB: 0.9800215220385674\n"
     ]
    }
   ],
   "source": [
    "print(\"RF:\",roc_auc_score(y_test, prob[0][:,1]))\n",
    "print(\"GBM:\",roc_auc_score(y_test, prob[1][:,1]))\n",
    "print(\"Ada:\",roc_auc_score(y_test, prob[2][:,1]))\n",
    "print(\"XGB:\",roc_auc_score(y_test, prob[3][:,1]))"
   ]
  },
  {
   "cell_type": "code",
   "execution_count": 9,
   "id": "43d46e11",
   "metadata": {
    "scrolled": true
   },
   "outputs": [
    {
     "name": "stdout",
     "output_type": "stream",
     "text": [
      "      accuracy  precision  recall        F1       auc\n",
      "100   0.982603   0.934524   0.785  0.853261  0.968876\n",
      "500   0.986147   0.981595   0.800  0.881543  0.978444\n",
      "1000  0.985503   0.969697   0.800  0.876712  0.977429\n",
      "1500  0.986147   0.975758   0.805  0.882192  0.978857\n",
      "2000  0.986147   0.975758   0.805  0.882192  0.982181\n",
      "2500  0.986469   0.981707   0.805  0.884615  0.978656\n",
      "3000  0.987113   0.987805   0.810  0.890110  0.985509\n",
      "3500  0.986791   0.981818   0.810  0.887671  0.970785\n",
      "4000  0.986791   0.981818   0.810  0.887671  0.976050\n",
      "4500  0.986791   0.981818   0.810  0.887671  0.977268\n",
      "5000  0.986469   0.987654   0.800  0.883978  0.979650\n"
     ]
    }
   ],
   "source": [
    "def random_forest():\n",
    "    accuracy = []\n",
    "    precision = [] \n",
    "    recall = []\n",
    "    F1 = []\n",
    "    auc = []\n",
    "    for i in index:\n",
    "        vector, vector_dataset = count_vectorizer(i)\n",
    "        x_train, x_test, y_train, y_test = train_test_split(vector_dataset, y, test_size = 0.2, random_state = 42, stratify = y)\n",
    "        forest = RandomForestClassifier(n_estimators = 100)\n",
    "        forest.fit(x_train, y_train)\n",
    "        y_pred = forest.predict(x_test)\n",
    "        prob = forest.predict_proba(x_test)\n",
    "        accuracy.append(accuracy_score(y_test, y_pred))\n",
    "        precision.append(precision_score(y_test, y_pred))\n",
    "        recall.append(recall_score(y_test, y_pred))\n",
    "        F1.append(f1_score(y_test, y_pred))\n",
    "        auc.append(roc_auc_score(y_test, prob[:,1]))\n",
    "    draw_table(index,accuracy, precision, recall, F1,auc)\n",
    "\n",
    "random_forest()"
   ]
  },
  {
   "cell_type": "code",
   "execution_count": 13,
   "id": "6630fc02",
   "metadata": {
    "scrolled": false
   },
   "outputs": [
    {
     "name": "stdout",
     "output_type": "stream",
     "text": [
      "      accuracy  precision    recall        F1       auc\n",
      "100   0.972947   0.823204  0.741294  0.780105  0.960890\n",
      "500   0.982287   0.924419  0.791045  0.852547  0.974335\n",
      "1000  0.983575   0.926136  0.810945  0.864721  0.973643\n",
      "1500  0.983253   0.916201  0.815920  0.863158  0.965799\n",
      "2000  0.984219   0.922222  0.825871  0.871391  0.975054\n",
      "2500  0.984219   0.926966  0.820896  0.870712  0.974801\n",
      "3000  0.984863   0.923077  0.835821  0.877285  0.965283\n",
      "3500  0.984219   0.926966  0.820896  0.870712  0.974839\n",
      "4000  0.984541   0.927374  0.825871  0.873684  0.976190\n",
      "4500  0.984863   0.927778  0.830846  0.876640  0.979074\n",
      "5000  0.984541   0.927374  0.825871  0.873684  0.984801\n"
     ]
    }
   ],
   "source": [
    "def ada_model():\n",
    "    accuracy = []\n",
    "    precision = [] \n",
    "    recall = []\n",
    "    F1 = []\n",
    "    auc = []\n",
    "    for i in index:\n",
    "        vector, vector_dataset = count_vectorizer(i)\n",
    "        x_train, x_test, y_train, y_test = train_test_split(vector_dataset, y, test_size = 0.2, random_state = 42, stratify = y)\n",
    "        ada = AdaBoostClassifier(n_estimators = 100)\n",
    "        ada.fit(x_train, y_train)\n",
    "        y_pred = ada.predict(x_test)\n",
    "        prob = ada.predict_proba(x_test)\n",
    "        accuracy.append(accuracy_score(y_test, y_pred))\n",
    "        precision.append(precision_score(y_test, y_pred))\n",
    "        recall.append(recall_score(y_test, y_pred))\n",
    "        F1.append(f1_score(y_test, y_pred))\n",
    "        auc.append(roc_auc_score(y_test, prob[:,1]))\n",
    "    draw_table(index,accuracy, precision, recall, F1,auc)\n",
    "\n",
    "ada_model()"
   ]
  },
  {
   "cell_type": "code",
   "execution_count": 14,
   "id": "ea1d6b3d",
   "metadata": {
    "scrolled": true
   },
   "outputs": [
    {
     "name": "stdout",
     "output_type": "stream",
     "text": [
      "      accuracy  precision    recall        F1       auc\n",
      "100   0.976490   0.900000  0.716418  0.797784  0.967353\n",
      "500   0.982287   0.939759  0.776119  0.850136  0.975392\n",
      "1000  0.982931   0.935294  0.791045  0.857143  0.969042\n",
      "1500  0.983575   0.951807  0.786070  0.861035  0.969168\n",
      "2000  0.983897   0.946746  0.796020  0.864865  0.969318\n",
      "2500  0.982931   0.930233  0.796020  0.857909  0.966743\n",
      "3000  0.984541   0.969325  0.786070  0.868132  0.967380\n",
      "3500  0.984863   0.963855  0.796020  0.871935  0.968232\n",
      "4000  0.984863   0.963855  0.796020  0.871935  0.968188\n",
      "4500  0.985507   0.975610  0.796020  0.876712  0.967985\n",
      "5000  0.984219   0.952381  0.796020  0.867209  0.967872\n"
     ]
    }
   ],
   "source": [
    "def gbm_model():\n",
    "    accuracy = []\n",
    "    precision = [] \n",
    "    recall = []\n",
    "    F1 = []\n",
    "    auc = []\n",
    "    for i in index:\n",
    "        vector, vector_dataset = count_vectorizer(i)\n",
    "        x_train, x_test, y_train, y_test = train_test_split(vector_dataset, y, test_size = 0.2, random_state = 42, stratify = y)\n",
    "        gradient = GradientBoostingClassifier(n_estimators = 100)\n",
    "        gradient.fit(x_train, y_train)\n",
    "        y_pred = gradient.predict(x_test)\n",
    "        prob = gradient.predict_proba(x_test)\n",
    "        accuracy.append(accuracy_score(y_test, y_pred))\n",
    "        precision.append(precision_score(y_test, y_pred))\n",
    "        recall.append(recall_score(y_test, y_pred))\n",
    "        F1.append(f1_score(y_test, y_pred))\n",
    "        auc.append(roc_auc_score(y_test, prob[:,1]))\n",
    "    draw_table(index,accuracy, precision, recall, F1,auc)\n",
    "\n",
    "gbm_model()"
   ]
  },
  {
   "cell_type": "code",
   "execution_count": 25,
   "id": "cbceb43e",
   "metadata": {},
   "outputs": [
    {
     "name": "stdout",
     "output_type": "stream",
     "text": [
      "      accuracy  precision    recall        F1       auc\n",
      "100   0.981320   0.938650  0.761194  0.840659  0.973421\n",
      "500   0.985507   0.964286  0.805970  0.878049  0.981402\n",
      "1000  0.986795   0.976190  0.815920  0.888889  0.979953\n",
      "1500  0.986795   0.976190  0.815920  0.888889  0.980874\n",
      "2000  0.987762   0.988024  0.820896  0.896739  0.982126\n",
      "2500  0.988406   0.988166  0.830846  0.902703  0.983298\n",
      "3000  0.987440   0.993902  0.810945  0.893151  0.981386\n",
      "3500  0.987762   0.993939  0.815920  0.896175  0.982829\n",
      "4000  0.988084   0.982353  0.830846  0.900270  0.982434\n",
      "4500  0.988406   0.988166  0.830846  0.902703  0.982079\n",
      "5000  0.988406   0.994012  0.825871  0.902174  0.983729\n"
     ]
    }
   ],
   "source": [
    "def xgb_model():\n",
    "    accuracy = []\n",
    "    precision = [] \n",
    "    recall = []\n",
    "    F1 = []\n",
    "    auc = []\n",
    "    for i in index:\n",
    "        vector, vector_dataset = count_vectorizer(i)\n",
    "        x_train, x_test, y_train, y_test = train_test_split(vector_dataset, y, test_size = 0.2, random_state = 42, stratify = y)\n",
    "        xgb = XGBClassifier(n_estimators = 200, learning_rate = 0.1)\n",
    "        xgb.fit(x_train, y_train)\n",
    "        y_pred = xgb.predict(x_test)\n",
    "        prob = xgb.predict_proba(x_test)\n",
    "        accuracy.append(accuracy_score(y_test, y_pred))\n",
    "        precision.append(precision_score(y_test, y_pred))\n",
    "        recall.append(recall_score(y_test, y_pred))\n",
    "        F1.append(f1_score(y_test, y_pred))\n",
    "        auc.append(roc_auc_score(y_test, prob[:,1]))\n",
    "    draw_table(index,accuracy, precision, recall, F1,auc)\n",
    "\n",
    "xgb_model()"
   ]
  },
  {
   "cell_type": "code",
   "execution_count": 18,
   "id": "87341ddd",
   "metadata": {},
   "outputs": [
    {
     "name": "stdout",
     "output_type": "stream",
     "text": [
      "Class=0, n=11612개 (50.0%)\n",
      "Class=1, n=11612개 (50.0%)\n"
     ]
    },
    {
     "data": {
      "image/png": "[encoded data removed]",
      "text/plain": [
       "<Figure size 432x288 with 1 Axes>"
      ]
     },
     "metadata": {},
     "output_type": "display_data"
    }
   ],
   "source": [
    "from sklearn.datasets import make_classification\n",
    "from sklearn.decomposition import PCA\n",
    "from imblearn.over_sampling import SMOTE\n",
    "from collections import Counter\n",
    "\n",
    "#SMOTE로 오버샘플링하기   \n",
    "def show_oversampling(y): \n",
    "    counter = Counter(y)\n",
    "    index = ['clean', 'malicious']\n",
    "    for k,v in counter.items():\n",
    "        print('Class=%d, n=%d개 (%.1f%%)' % (k, v, v / len(y) * 100))\n",
    "    plt.bar(index, counter.values(), color = \"orange\")\n",
    "    plt.show()\n",
    "\n",
    "vector, vector_dataset = count_vectorizer(4000)\n",
    "x_train, x_test, y_train, y_test = train_test_split(vector_dataset, y, test_size = 0.2, random_state = 42, stratify = y)\n",
    "\n",
    "sm = SMOTE(random_state = 1)\n",
    "\n",
    "X_resampled, y_resampled = sm.fit_resample(x_train,list(y_train))\n",
    "show_oversampling(y_resampled)"
   ]
  },
  {
   "cell_type": "code",
   "execution_count": null,
   "id": "54233668",
   "metadata": {},
   "outputs": [],
   "source": []
  }
 ],
 "metadata": {
  "kernelspec": {
   "display_name": "Python 3 (ipykernel)",
   "language": "python",
   "name": "python3"
  },
  "language_info": {
   "codemirror_mode": {
    "name": "ipython",
    "version": 3
   },
   "file_extension": ".py",
   "mimetype": "text/x-python",
   "name": "python",
   "nbconvert_exporter": "python",
   "pygments_lexer": "ipython3",
   "version": "3.9.7"
  }
 },
 "nbformat": 4,
 "nbformat_minor": 5
}
