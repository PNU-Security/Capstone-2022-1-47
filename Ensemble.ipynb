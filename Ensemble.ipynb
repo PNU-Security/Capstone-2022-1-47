{
 "cells": [
  {
   "cell_type": "code",
   "execution_count": 1,
   "id": "10a8ccad",
   "metadata": {},
   "outputs": [],
   "source": [
    "import pandas as pd\n",
    "import numpy as np\n",
    "\n",
    "from sklearn.ensemble import VotingClassifier\n",
    "from sklearn.linear_model import LogisticRegression\n",
    "from sklearn.ensemble import RandomForestClassifier\n",
    "from sklearn.datasets import load_breast_cancer\n",
    "from sklearn.model_selection import train_test_split\n",
    "from sklearn.metrics import accuracy_score\n",
    "from sklearn.metrics import precision_score\n",
    "from sklearn.metrics import recall_score\n",
    "from sklearn.metrics import f1_score\n",
    "from xgboost import XGBClassifier\n",
    "from sklearn.ensemble import AdaBoostClassifier, GradientBoostingClassifier, RandomForestClassifier\n",
    "\n",
    "\n",
    "DATA_PATH = './data/'\n",
    "DATA_SET_CSV = 'dataset.csv'\n",
    "\n",
    "#csv파일 읽기\n",
    "dataset = pd.read_csv(DATA_PATH+DATA_SET_CSV)"
   ]
  },
  {
   "cell_type": "code",
   "execution_count": 2,
   "id": "071db401",
   "metadata": {
    "scrolled": false
   },
   "outputs": [],
   "source": [
    "from sklearn.feature_extraction.text import CountVectorizer\n",
    "#벡터화\n",
    "cv = CountVectorizer(max_features=4000, ngram_range = (1,2), token_pattern = \"[a-z0-9-._:]+\")\n",
    "codes = list(dataset['code'])\n",
    "X = cv.fit_transform(codes)\n",
    "y = np.array(dataset['sentiment'])\n"
   ]
  },
  {
   "cell_type": "code",
   "execution_count": 3,
   "id": "0222448b",
   "metadata": {
    "scrolled": true
   },
   "outputs": [
    {
     "name": "stdout",
     "output_type": "stream",
     "text": [
      "14516\n",
      "1002\n"
     ]
    }
   ],
   "source": [
    "#csv파일 제대로 읽었는지 확인\n",
    "print(np.count_nonzero(y == 0))\n",
    "print(np.count_nonzero(y == 1))\n",
    "X_train, X_test, y_train, y_test = train_test_split(X, y, test_size=0.2, random_state=42, stratify = y)"
   ]
  },
  {
   "cell_type": "code",
   "execution_count": 8,
   "id": "75c544b3",
   "metadata": {
    "scrolled": true
   },
   "outputs": [
    {
     "name": "stdout",
     "output_type": "stream",
     "text": [
      "GBM+XGB\n",
      "정확도: 0.9890463917525774\n",
      "정밀도: 0.9882352941176471\n",
      "재현율: 0.84\n",
      "F1: 0.9081081081081082\n",
      "\n",
      "GBM+Ada\n",
      "정확도: 0.9861469072164949\n",
      "정밀도: 0.9815950920245399\n",
      "재현율: 0.8\n",
      "F1: 0.8815426997245179\n",
      "\n",
      "XGB+Ada\n",
      "정확도: 0.9884020618556701\n",
      "정밀도: 0.9767441860465116\n",
      "재현율: 0.84\n",
      "F1: 0.9032258064516129\n",
      "\n",
      "GBM+XGB+Ada\n",
      "정확도: 0.9890463917525774\n",
      "정밀도: 0.9882352941176471\n",
      "재현율: 0.84\n",
      "F1: 0.9081081081081082\n",
      "\n"
     ]
    }
   ],
   "source": [
    "names = [\"GBM+XGB\",\"GBM+Ada\",\"XGB+Ada\",\"GBM+XGB+Ada\"]\n",
    "prob = []\n",
    "\n",
    "classifiers2 = XGBClassifier(n_estimators = 150, learning_rate = 0.2, max_depth=8) \n",
    "classifiers3=AdaBoostClassifier(n_estimators=300)\n",
    "classifiers4 = GradientBoostingClassifier(n_estimators = 150, learning_rate = 0.04)\n",
    "\n",
    "eclf1 = VotingClassifier(estimators=[('gbm', classifiers4), ('xgb', classifiers2)],voting='soft',weights=[2,4])\n",
    "eclf2 = VotingClassifier(estimators=[('gbm', classifiers4), ('ada', classifiers3)],voting='soft')\n",
    "eclf3 = VotingClassifier(estimators=[('xgb', classifiers2), ('ada', classifiers3)],voting='soft',weights=[4,2])\n",
    "eclf4 = VotingClassifier(estimators=[('gbm', classifiers4), ('xgb', classifiers2), ('ada', classifiers3)],voting='soft',weights=[2,4,2])\n",
    "\n",
    "i = 0\n",
    "for model in (eclf1, eclf2, eclf3, eclf4):\n",
    "    model.fit(X_train, y_train)\n",
    "    y_pred = model.predict(X_test)\n",
    "    prob.append(model.predict_proba(X_test))\n",
    "    print(names[i])\n",
    "    i += 1\n",
    "    print(\"정확도: {}\".format(accuracy_score(y_test, y_pred)))\n",
    "    print(\"정밀도: {}\".format(precision_score(y_test, y_pred)))\n",
    "    print(\"재현율: {}\".format(recall_score(y_test, y_pred)))\n",
    "    print(\"F1: {}\".format(f1_score(y_test, y_pred)))\n",
    "    print()"
   ]
  },
  {
   "cell_type": "code",
   "execution_count": 9,
   "id": "322d9478",
   "metadata": {
    "scrolled": true
   },
   "outputs": [
    {
     "data": {
      "image/png": "[encoded data removed]",
      "text/plain": [
       "<Figure size 864x720 with 1 Axes>"
      ]
     },
     "metadata": {},
     "output_type": "display_data"
    }
   ],
   "source": [
    "from sklearn.metrics import roc_curve\n",
    "import matplotlib.pyplot as plt\n",
    "\n",
    "fpr0, tpr0, thresholds0 = roc_curve(y_test, prob[0][:,1])\n",
    "fpr1, tpr1, thresholds1 = roc_curve(y_test, prob[1][:,1])\n",
    "fpr2, tpr2, thresholds2 = roc_curve(y_test, prob[2][:,1])\n",
    "fpr3, tpr3, thresholds3 = roc_curve(y_test, prob[3][:,1])\n",
    "plt.style.use('seaborn-whitegrid')\n",
    "plt.figure(figsize=(12,10))\n",
    "plt.plot(fpr0, tpr0, color = 'deepskyblue', label = 'GBM+XGB')\n",
    "plt.plot(fpr1, tpr1, color = 'orange', label = 'GBM+Ada')\n",
    "plt.plot(fpr2, tpr2, color = 'limegreen', label = 'Ada+XGB')\n",
    "plt.plot(fpr3, tpr3, color = 'orangered', label = 'ALL')\n",
    "plt.xlabel('FPR')\n",
    "plt.ylabel('TPR')\n",
    "plt.legend()\n",
    "plt.show()"
   ]
  },
  {
   "cell_type": "code",
   "execution_count": 12,
   "id": "87d9fa2f",
   "metadata": {},
   "outputs": [
    {
     "name": "stdout",
     "output_type": "stream",
     "text": [
      "XGB+GBM: 0.9853366046831956\n",
      "GBM+Ada: 0.9826842286501378\n",
      "Ada+XGB: 0.9788851584022038\n",
      "ALL: 0.9866003787878788\n"
     ]
    }
   ],
   "source": [
    "from sklearn.metrics import roc_auc_score\n",
    "print(\"XGB+GBM:\",roc_auc_score(y_test, prob[0][:,1]))\n",
    "print(\"GBM+Ada:\",roc_auc_score(y_test, prob[1][:,1]))\n",
    "print(\"Ada+XGB:\",roc_auc_score(y_test, prob[2][:,1]))\n",
    "print(\"ALL:\",roc_auc_score(y_test, prob[3][:,1]))"
   ]
  },
  {
   "cell_type": "code",
   "execution_count": 21,
   "id": "04807d69",
   "metadata": {},
   "outputs": [
    {
     "data": {
      "text/plain": [
       "array([[2902,    2],\n",
       "       [  32,  168]], dtype=int64)"
      ]
     },
     "execution_count": 21,
     "metadata": {},
     "output_type": "execute_result"
    }
   ],
   "source": [
    "from sklearn.metrics import confusion_matrix\n",
    "#최종 모델의 혼동행렬\n",
    "y_pred = eclf4.predict(X_test)\n",
    "confusion_matrix(y_test, y_pred)"
   ]
  },
  {
   "cell_type": "code",
   "execution_count": 11,
   "id": "49d7e337",
   "metadata": {},
   "outputs": [],
   "source": [
    "import joblib\n",
    "#카운트벡터, 모델 저장\n",
    "finalcount = joblib.dump(cv,'./countvector.pkl')\n",
    "finalmodel = joblib.dump(eclf4,'./model.pkl')"
   ]
  },
  {
   "cell_type": "code",
   "execution_count": null,
   "id": "6ea18575",
   "metadata": {},
   "outputs": [],
   "source": []
  }
 ],
 "metadata": {
  "kernelspec": {
   "display_name": "Python 3 (ipykernel)",
   "language": "python",
   "name": "python3"
  },
  "language_info": {
   "codemirror_mode": {
    "name": "ipython",
    "version": 3
   },
   "file_extension": ".py",
   "mimetype": "text/x-python",
   "name": "python",
   "nbconvert_exporter": "python",
   "pygments_lexer": "ipython3",
   "version": "3.9.7"
  }
 },
 "nbformat": 4,
 "nbformat_minor": 5
}
