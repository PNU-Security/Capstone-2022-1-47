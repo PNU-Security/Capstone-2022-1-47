{
 "cells": [
  {
   "cell_type": "code",
   "execution_count": 37,
   "id": "5014d6b1",
   "metadata": {
    "scrolled": true
   },
   "outputs": [
    {
     "name": "stdout",
     "output_type": "stream",
     "text": [
      "총 샘플의 수:  20224\n"
     ]
    },
    {
     "data": {
      "text/html": [
       "<div>\n",
       "<style scoped>\n",
       "    .dataframe tbody tr th:only-of-type {\n",
       "        vertical-align: middle;\n",
       "    }\n",
       "\n",
       "    .dataframe tbody tr th {\n",
       "        vertical-align: top;\n",
       "    }\n",
       "\n",
       "    .dataframe thead th {\n",
       "        text-align: right;\n",
       "    }\n",
       "</style>\n",
       "<table border=\"1\" class=\"dataframe\">\n",
       "  <thead>\n",
       "    <tr style=\"text-align: right;\">\n",
       "      <th></th>\n",
       "      <th>Null</th>\n",
       "    </tr>\n",
       "  </thead>\n",
       "  <tbody>\n",
       "    <tr>\n",
       "      <th>name</th>\n",
       "      <td>0</td>\n",
       "    </tr>\n",
       "    <tr>\n",
       "      <th>code</th>\n",
       "      <td>179</td>\n",
       "    </tr>\n",
       "    <tr>\n",
       "      <th>sentiment</th>\n",
       "      <td>0</td>\n",
       "    </tr>\n",
       "  </tbody>\n",
       "</table>\n",
       "</div>"
      ],
      "text/plain": [
       "           Null\n",
       "name          0\n",
       "code        179\n",
       "sentiment     0"
      ]
     },
     "execution_count": 37,
     "metadata": {},
     "output_type": "execute_result"
    }
   ],
   "source": [
    "import os\n",
    "import numpy as np\n",
    "\n",
    "import pandas as pd\n",
    "import matplotlib.pyplot as plt\n",
    "import import_ipynb\n",
    "import makeData as md\n",
    "import analysis_updated as up\n",
    "\n",
    "%matplotlib inline\n",
    "\n",
    "DATA_PATH = './data/'\n",
    "DATA_SET_CSV = 'dataset.csv'\n",
    "#psparser 실행\n",
    "#md.run_psparser(os.path.join(DATA_PATH, \"clean/\"))\n",
    "#md.run_psparser(os.path.join(DATA_PATH, \"malicious/\"))\n",
    "\n",
    "#makeData에 있는 함수를 사용하여 데이터 프레임 만들기\n",
    "test_scripts =md.labeling(DATA_PATH)\n",
    "#총 샘플의 수\n",
    "print(\"총 샘플의 수: \", len(test_scripts))\n",
    "\n",
    "# 각 항목의 결측값 개수 파악\n",
    "test_scripts.isnull().sum().to_frame('Null')\n"
   ]
  },
  {
   "cell_type": "code",
   "execution_count": 38,
   "id": "db9eb028",
   "metadata": {},
   "outputs": [
    {
     "name": "stdout",
     "output_type": "stream",
     "text": [
      "총 샘플의 수:  20045\n"
     ]
    }
   ],
   "source": [
    "#결측값 제거하기\n",
    "test_scripts.dropna(axis = 0, how = 'any', subset = None,inplace=True)\n",
    "test_scripts.reset_index(drop=True,inplace=True)\n",
    "  \n",
    "#총 샘플의 수\n",
    "print(\"총 샘플의 수: \", len(test_scripts))\n"
   ]
  },
  {
   "cell_type": "code",
   "execution_count": 39,
   "id": "89676b06",
   "metadata": {},
   "outputs": [
    {
     "data": {
      "text/html": [
       "<div>\n",
       "<style scoped>\n",
       "    .dataframe tbody tr th:only-of-type {\n",
       "        vertical-align: middle;\n",
       "    }\n",
       "\n",
       "    .dataframe tbody tr th {\n",
       "        vertical-align: top;\n",
       "    }\n",
       "\n",
       "    .dataframe thead th {\n",
       "        text-align: right;\n",
       "    }\n",
       "</style>\n",
       "<table border=\"1\" class=\"dataframe\">\n",
       "  <thead>\n",
       "    <tr style=\"text-align: right;\">\n",
       "      <th></th>\n",
       "      <th>name</th>\n",
       "      <th>code</th>\n",
       "    </tr>\n",
       "  </thead>\n",
       "  <tbody>\n",
       "    <tr>\n",
       "      <th>count</th>\n",
       "      <td>20045</td>\n",
       "      <td>20045</td>\n",
       "    </tr>\n",
       "    <tr>\n",
       "      <th>unique</th>\n",
       "      <td>20043</td>\n",
       "      <td>15530</td>\n",
       "    </tr>\n",
       "    <tr>\n",
       "      <th>top</th>\n",
       "      <td>test.ps1.txt</td>\n",
       "      <td>New-Object System.Net.WebClient Start-Process</td>\n",
       "    </tr>\n",
       "    <tr>\n",
       "      <th>freq</th>\n",
       "      <td>2</td>\n",
       "      <td>1373</td>\n",
       "    </tr>\n",
       "  </tbody>\n",
       "</table>\n",
       "</div>"
      ],
      "text/plain": [
       "                name                                             code\n",
       "count          20045                                            20045\n",
       "unique         20043                                            15530\n",
       "top     test.ps1.txt  New-Object System.Net.WebClient Start-Process  \n",
       "freq               2                                             1373"
      ]
     },
     "execution_count": 39,
     "metadata": {},
     "output_type": "execute_result"
    }
   ],
   "source": [
    "#범주형 데이터 살펴보기\n",
    "test_scripts.describe(include='O')\n"
   ]
  },
  {
   "cell_type": "code",
   "execution_count": 40,
   "id": "2b2bced4",
   "metadata": {},
   "outputs": [
    {
     "name": "stdout",
     "output_type": "stream",
     "text": [
      "총 샘플의 수:  15530\n"
     ]
    }
   ],
   "source": [
    "\n",
    "#중복이 둘디 제거 버전\n",
    "#inplace=True 기존 데이터 프레임 변경\n",
    "test_scripts.drop_duplicates(subset=['code'], inplace=True)\n",
    "test_scripts.reset_index(drop=True,inplace=True)\n",
    "\n",
    "\n",
    "#총 샘플의 수\n",
    "print(\"총 샘플의 수: \", len(test_scripts))\n",
    "#test_scripts"
   ]
  },
  {
   "cell_type": "code",
   "execution_count": 41,
   "id": "03406f83",
   "metadata": {},
   "outputs": [
    {
     "name": "stdout",
     "output_type": "stream",
     "text": [
      "function _setcertpolicy add-type -typedefinition new-object -typename trustallcertspolicy\n"
     ]
    }
   ],
   "source": [
    "#히스토그램으로 코드의 분포 살펴보기 전\n",
    "#코드 길이가 0인것이 있다면 지우기\n",
    "code_length = test_scripts['code'].apply(len)   #code_length의 타입은 시리즈\n",
    "#길이 0인거 제거하자\n",
    "zero_length = np.where(code_length == 0)[0]\n",
    "if len(zero_length) != 0:  \n",
    "    test_scripts.drop(zero_length, axis = 0, inplace=True)\n",
    "    test_scripts.reset_index(drop=True,inplace=True) #인덱스 재정비\n",
    "    \n",
    "#여기서 소문자, 1 제거 함수 불러오기\n",
    "test_scripts = up.lower_case(test_scripts)\n",
    "#잘 됐는지 확인하기 위해 출력\n",
    "print(test_scripts.loc[15500, 'code'])"
   ]
  },
  {
   "cell_type": "code",
   "execution_count": 42,
   "id": "a0cdc1a5",
   "metadata": {},
   "outputs": [
    {
     "data": {
      "image/png": "[encoded data removed]",
      "text/plain": [
       "<Figure size 720x360 with 1 Axes>"
      ]
     },
     "metadata": {
      "needs_background": "light"
     },
     "output_type": "display_data"
    }
   ],
   "source": [
    "#히스토그램으로 코드의 분포 살펴보기\n",
    "code_length = test_scripts['code'].apply(len) \n",
    "plt.figure(figsize=(10,5))\n",
    "\n",
    "plt.hist(code_length, bins = 50, alpha = 0.5, color='g', label ='code') \n",
    "plt.title('code Distribution')\n",
    "plt.yscale('log')\n",
    "plt.legend()\n",
    "plt.xlabel('length') #길이\n",
    "plt.ylabel('number') #개수 (이거 한글로 바꾸려면 깨져서 따로 처리해야)\n",
    "plt.show()"
   ]
  },
  {
   "cell_type": "code",
   "execution_count": 43,
   "id": "16dffdf3",
   "metadata": {},
   "outputs": [
    {
     "name": "stdout",
     "output_type": "stream",
     "text": [
      "평균값 : 1459.16\n",
      "표준편차 : 6018.02\n",
      "최댓값 : 306862\n",
      "최솟값 : 0\n",
      "1/2지점에 위치하는 코드의 길이 : 484.0\n",
      "1/4지점에 위치하는 코드의 길이 : 238.0\n",
      "3/4지점에 위치하는 코드의 길이 : 1073.0\n"
     ]
    }
   ],
   "source": [
    "#코드의 분포를 통계값으로 나타내보자\n",
    "#code_length.describe() <- 한번에 확인 가능\n",
    "print(\"평균값 : {:.2f}\".format(code_length.mean()))\n",
    "print(\"표준편차 : {:.2f}\".format(code_length.std()))\n",
    "print(\"최댓값 :\", code_length.max())\n",
    "print(\"최솟값 :\", code_length.min())\n",
    "print(\"1/2지점에 위치하는 코드의 길이 :\", code_length.median())\n",
    "print(\"1/4지점에 위치하는 코드의 길이 :\", np.percentile(code_length,25)) #제1사분위\n",
    "print(\"3/4지점에 위치하는 코드의 길이 :\", np.percentile(code_length,75)) #제3사분위"
   ]
  },
  {
   "cell_type": "code",
   "execution_count": 44,
   "id": "a39b810e",
   "metadata": {
    "scrolled": false
   },
   "outputs": [
    {
     "data": {
      "image/png": "[encoded data removed]",
      "text/plain": [
       "<Figure size 720x504 with 1 Axes>"
      ]
     },
     "metadata": {
      "needs_background": "light"
     },
     "output_type": "display_data"
    }
   ],
   "source": [
    "#이상치를 확인하고 싶음\n",
    "plt.figure(figsize=(10,7))\n",
    "plt.boxplot([code_length],labels=['code'],sym='r')  \n",
    "plt.show()"
   ]
  },
  {
   "cell_type": "code",
   "execution_count": 45,
   "id": "20e4b02b",
   "metadata": {},
   "outputs": [
    {
     "name": "stdout",
     "output_type": "stream",
     "text": [
      "lower : -1014.5\n",
      "upper : 2325.5\n",
      "이상치 개수 : 1697\n"
     ]
    }
   ],
   "source": [
    "#이상치 찾는 함수 이 부분 고민중 아직 건들지마셈\n",
    "def find_outlier(code_length):\n",
    "    q1 = np.percentile(code_length,25) #제 1사분위\n",
    "    q3 = np.percentile(code_length,75) #제 3사분위\n",
    "    iqr = q3 - q1  #IQR 값\n",
    "    lower = q1 - (1.5*iqr) #최솟값\n",
    "    upper = q3 + (1.5*iqr) #최댓값\n",
    "    print(\"lower :\", lower)\n",
    "    print(\"upper :\", upper)\n",
    "    return np.where((code_length < lower) | (code_length > upper))\n",
    "\n",
    "outlier = find_outlier(code_length)[0]\n",
    "\n",
    "print(\"이상치 개수 :\",code_length.loc[outlier].count()) #이상치 개수 출력\n",
    "\n",
    "\n",
    "#길이 0인거 제거하자\n",
    "zero_length = np.where(code_length == 0)[0]\n",
    "if len(zero_length) != 0:  \n",
    "    test_scripts.drop(zero_length, axis = 0, inplace=True)\n",
    "    test_scripts.reset_index(drop=True,inplace=True) #인덱스 재정비"
   ]
  },
  {
   "cell_type": "code",
   "execution_count": 46,
   "id": "03d133ae",
   "metadata": {},
   "outputs": [
    {
     "data": {
      "image/png": "[encoded data removed]",
      "text/plain": [
       "<Figure size 720x360 with 1 Axes>"
      ]
     },
     "metadata": {
      "needs_background": "light"
     },
     "output_type": "display_data"
    }
   ],
   "source": [
    "#단어 개수 분포를 히스토그램으로 살펴보자\n",
    "#word_count의 타입은 시리즈\n",
    "\n",
    "word_count = test_scripts['code'].apply(lambda x:len(x.split()))   \n",
    "plt.figure(figsize=(10,5))\n",
    "#나중에 bins와 alpha 조정해서 바꾸기\n",
    "plt.hist(word_count, bins = 100, alpha = 0.5, color='b', label = 'word') \n",
    "plt.yscale('log')\n",
    "plt.legend()\n",
    "plt.title('word count Distribution')\n",
    "plt.xlabel('number of words') #단어 개수\n",
    "plt.ylabel('number of code') #코드 개수 (이거 한글로 바꾸려면 깨져서 따로 처리해야)\n",
    "plt.show()"
   ]
  },
  {
   "cell_type": "code",
   "execution_count": 47,
   "id": "042a04fa",
   "metadata": {},
   "outputs": [
    {
     "name": "stdout",
     "output_type": "stream",
     "text": [
      "평균값 : 142.40\n",
      "표준편차 : 520.64\n",
      "최댓값 : 22150\n",
      "최솟값 : 1\n",
      "중앙값 : 51.0\n",
      "1/4지점에 위치하는 단어의 개수 : 25.0\n",
      "3/4지점에 위치하는 단어의 개수 : 113.0\n"
     ]
    }
   ],
   "source": [
    "#단어 개수 분포를 통계값으로 나타내보자\n",
    "#word_count.describe() <- 한번에 확인 가능\n",
    "print(\"평균값 : {:.2f}\".format(word_count.mean()))\n",
    "print(\"표준편차 : {:.2f}\".format(word_count.std()))\n",
    "print(\"최댓값 :\", word_count.max())\n",
    "print(\"최솟값 :\", word_count.min())\n",
    "print(\"중앙값 :\", word_count.median())\n",
    "print(\"1/4지점에 위치하는 단어의 개수 :\", np.percentile(word_count,25)) #제1사분위\n",
    "print(\"3/4지점에 위치하는 단어의 개수 :\", np.percentile(word_count,75)) #제3사분위"
   ]
  },
  {
   "cell_type": "code",
   "execution_count": 48,
   "id": "67723e82",
   "metadata": {},
   "outputs": [
    {
     "data": {
      "image/png": "[encoded data removed]",
      "text/plain": [
       "<Figure size 720x504 with 1 Axes>"
      ]
     },
     "metadata": {
      "needs_background": "light"
     },
     "output_type": "display_data"
    }
   ],
   "source": [
    "#이상치를 확인하고 싶음\n",
    "plt.figure(figsize=(10,7))\n",
    "plt.boxplot([word_count],labels=['word'],sym='r')  \n",
    "plt.show()"
   ]
  },
  {
   "cell_type": "code",
   "execution_count": 49,
   "id": "448f0381",
   "metadata": {},
   "outputs": [
    {
     "name": "stdout",
     "output_type": "stream",
     "text": [
      "7\n"
     ]
    }
   ],
   "source": [
    "#단어 개수 10000이상인거 제거하자.\n",
    "max_length = np.where(word_count > 10000)[0]\n",
    "print(len(max_length)) #단어 개수 10000이상인 스크립트 개수\n",
    "\n",
    "test_scripts =test_scripts.drop(max_length, axis = 0) #inplace=True 기존 데이터 프레임 변경\n",
    "test_scripts.reset_index(drop=True,inplace=True) #인덱스 재정비"
   ]
  },
  {
   "cell_type": "code",
   "execution_count": 50,
   "id": "f1455218",
   "metadata": {},
   "outputs": [
    {
     "data": {
      "image/png": "[encoded data removed]",
      "text/plain": [
       "<Figure size 720x360 with 1 Axes>"
      ]
     },
     "metadata": {
      "needs_background": "light"
     },
     "output_type": "display_data"
    }
   ],
   "source": [
    "#제거 후 어떻게 변했는 지 단어 개수 분포를 히스토그램으로 살펴보자\n",
    "word_count = test_scripts['code'].apply(lambda x:len(x.split()))   \n",
    "plt.figure(figsize=(10,5))\n",
    "\n",
    "plt.hist(word_count, bins = 100, alpha = 0.5, color='b', label = 'word') \n",
    "plt.yscale('log')\n",
    "plt.legend()\n",
    "plt.title('word count Distribution')\n",
    "plt.xlabel('number of words') #단어 개수\n",
    "plt.ylabel('number of code') #코드 개수 (이거 한글로 바꾸려면 깨져서 따로 처리해야)\n",
    "plt.show()"
   ]
  },
  {
   "cell_type": "code",
   "execution_count": 51,
   "id": "b8c65746",
   "metadata": {},
   "outputs": [
    {
     "name": "stdout",
     "output_type": "stream",
     "text": [
      "평균값 : 135.31\n",
      "표준편차 : 391.43\n",
      "최댓값 : 9967\n",
      "최솟값 : 1\n",
      "중앙값 : 51.0\n",
      "1/4지점에 위치하는 단어의 개수 : 25.0\n",
      "3/4지점에 위치하는 단어의 개수 : 112.75\n"
     ]
    }
   ],
   "source": [
    "#단어 개수 분포를 통계값으로 나타내보자\n",
    "#word_count.describe() <- 한번에 확인 가능\n",
    "print(\"평균값 : {:.2f}\".format(word_count.mean()))\n",
    "print(\"표준편차 : {:.2f}\".format(word_count.std()))\n",
    "print(\"최댓값 :\", word_count.max())\n",
    "print(\"최솟값 :\", word_count.min())\n",
    "print(\"중앙값 :\", word_count.median())\n",
    "print(\"1/4지점에 위치하는 단어의 개수 :\", np.percentile(word_count,25)) #제1사분위\n",
    "print(\"3/4지점에 위치하는 단어의 개수 :\", np.percentile(word_count,75)) #제3사분위"
   ]
  },
  {
   "cell_type": "code",
   "execution_count": 52,
   "id": "20638c28",
   "metadata": {},
   "outputs": [
    {
     "name": "stdout",
     "output_type": "stream",
     "text": [
      "lower : -106.625\n",
      "upper : 244.375\n",
      "이상치 개수 : 1642\n",
      "이상치 값의 비율 : 10.58%\n",
      "정상 스크립트 중 이상치 개수 : 1540\n",
      "악성 스크립트 중 이상치 개수 : 102\n"
     ]
    }
   ],
   "source": [
    "outliers = find_outlier(word_count)[0]\n",
    "print(\"이상치 개수 :\",word_count.loc[outliers].count()) \n",
    "outlier_ratio = (word_count.loc[outliers].count()/len(test_scripts))*100\n",
    "print(\"이상치 값의 비율 : {:.2f}%\".format(outlier_ratio))\n",
    "outlier_set = test_scripts.loc[outliers]\n",
    "print(\"정상 스크립트 중 이상치 개수 :\", outlier_set['sentiment'].value_counts()[0])\n",
    "print(\"악성 스크립트 중 이상치 개수 :\", outlier_set['sentiment'].value_counts()[1])"
   ]
  },
  {
   "cell_type": "code",
   "execution_count": 53,
   "id": "1ed174a0",
   "metadata": {},
   "outputs": [
    {
     "name": "stdout",
     "output_type": "stream",
     "text": [
      "정상 스크립트 개수 : 14516\n",
      "악성 스크립트 개수 : 1002\n",
      "\n",
      "정상 스크립트의 비율 : 93.54%\n",
      "악성 스크립트의 비율 : 6.46%\n"
     ]
    }
   ],
   "source": [
    "\n",
    "#정상과 악성 개수\n",
    "print(\"정상 스크립트 개수 :\", test_scripts['sentiment'].value_counts()[0])\n",
    "print(\"악성 스크립트 개수 :\", test_scripts['sentiment'].value_counts()[1])\n",
    "print()\n",
    "\n",
    "#정상, 악성 비율\n",
    "print(\"정상 스크립트의 비율 : {:.2f}%\".format(test_scripts['sentiment'].value_counts()[0]/len(test_scripts)*100))\n",
    "print(\"악성 스크립트의 비율 : {:.2f}%\".format(test_scripts['sentiment'].value_counts()[1]/len(test_scripts)*100))"
   ]
  },
  {
   "cell_type": "code",
   "execution_count": 36,
   "id": "b04ce909",
   "metadata": {
    "scrolled": false
   },
   "outputs": [],
   "source": [
    "#파일로 저장하는 부분 만들기\n",
    "#데이터셋을 csv파일로 저장하기 \n",
    "test_scripts.to_csv(DATA_PATH + DATA_SET_CSV, index = False)\n"
   ]
  },
  {
   "cell_type": "code",
   "execution_count": null,
   "id": "1928cad0",
   "metadata": {},
   "outputs": [],
   "source": []
  }
 ],
 "metadata": {
  "kernelspec": {
   "display_name": "Python 3 (ipykernel)",
   "language": "python",
   "name": "python3"
  },
  "language_info": {
   "codemirror_mode": {
    "name": "ipython",
    "version": 3
   },
   "file_extension": ".py",
   "mimetype": "text/x-python",
   "name": "python",
   "nbconvert_exporter": "python",
   "pygments_lexer": "ipython3",
   "version": "3.10.5"
  }
 },
 "nbformat": 4,
 "nbformat_minor": 5
}
